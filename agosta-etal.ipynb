{
 "cells": [
  {
   "cell_type": "markdown",
   "id": "abd678aa-fb2a-47b7-bd31-2123bbea17e4",
   "metadata": {},
   "source": [
    "# Replication: Agosta *et al*, 2013\n",
    "\n",
    "## Introduction\n",
    "\n",
    "This notebook attempts to replicate the following paper with the [PPMI](http://ppmi-info.org) dataset:\n",
    "\n",
    "<div class=\"alert alert-block alert-success\">\n",
    "Agosta, Federica, et al. <a href=\"https://onlinelibrary.wiley.com/doi/abs/10.1002/hbm.22101?casa_token=vStnHL7zZ9MAAAAA:Ua2XOtP-ZFkkN-ebLPWi-84jCctqFpC8I89zyE3Ia9Lvk8bJWl7wj7-15xciyX50gzG05TlCvv6DFk0\">\n",
    "The topography of brain damage at different stages of Parkinson's disease.</a>, Human brain mapping 34.11 (2013): 2798-2807.\n",
    "</div>"
   ]
  },
  {
   "cell_type": "markdown",
   "id": "ab86edb8-d5ab-402a-b133-2a77530600a4",
   "metadata": {},
   "source": [
    "<img src='images/table.png' width=800/>"
   ]
  },
  {
   "cell_type": "code",
   "execution_count": 1,
   "id": "7984652c-62b1-465f-bfdb-dccbb9191dcb",
   "metadata": {},
   "outputs": [],
   "source": [
    "# H&Y during OFF time\n",
    "# Exclusion criteria: Patients were excluded if they had:\n",
    "# (a) parkin, leucine-rich repeat kinase 2 (LRRK2), and glu-\n",
    "# cocerebrosidase (GBA) gene mutations;  OK\n",
    "# (b) cerebrovascular\n",
    "# disorders, traumatic brain injury history, or intracranial\n",
    "# mass; NOT FOUND IN PPMI\n",
    "#\n",
    "# (c) other major neurological and medical diseases;\n",
    "# (d) dementia: OK\n",
    "\n",
    "# DARTEL:  8-mm full width\n",
    "# at half maximum (FWHM) Gaussian filter"
   ]
  },
  {
   "cell_type": "markdown",
   "id": "9189c63b-94ad-469b-b9d0-328eb52cc8b8",
   "metadata": {},
   "source": [
    "## Initial setup"
   ]
  },
  {
   "cell_type": "code",
   "execution_count": 2,
   "id": "52b4e9c2-4f75-43bc-b956-dbe9f1ba608d",
   "metadata": {},
   "outputs": [
    {
     "name": "stdout",
     "output_type": "stream",
     "text": [
      "Installing notebook dependencies (see log in install.log)... \n",
      "This notebook was run on 2022-07-19 07:27:34.951400\n"
     ]
    }
   ],
   "source": [
    "import livingpark_utils\n",
    "\n",
    "utils = livingpark_utils.LivingParkUtils(\"agosta-etal\")\n",
    "utils.prologue()\n",
    "random_seed = 1"
   ]
  },
  {
   "cell_type": "markdown",
   "id": "ff5646ca-49a8-4072-b28c-cf8a82debb42",
   "metadata": {
    "tags": []
   },
   "source": [
    "## PPMI cohort preparation"
   ]
  },
  {
   "cell_type": "markdown",
   "id": "003cc8c9-96aa-4772-af38-fb769c4fdff3",
   "metadata": {
    "slideshow": {
     "slide_type": "slide"
    }
   },
   "source": [
    "### Study data download"
   ]
  },
  {
   "cell_type": "code",
   "execution_count": 3,
   "id": "be13ea39-957e-440f-b27b-32113c81f6a0",
   "metadata": {},
   "outputs": [
    {
     "name": "stdout",
     "output_type": "stream",
     "text": [
      "The following files are now available: ['iu_genetic_consensus_20220310.csv', 'Cognitive_Categorization.csv', 'Primary_Clinical_Diagnosis.csv']\n"
     ]
    }
   ],
   "source": [
    "required_files = [\n",
    "    \"iu_genetic_consensus_20220310.csv\",\n",
    "    \"Cognitive_Categorization.csv\",\n",
    "    \"Primary_Clinical_Diagnosis.csv\",\n",
    "]\n",
    "\n",
    "utils.install_ppmi_study_files(required_files)"
   ]
  },
  {
   "cell_type": "code",
   "execution_count": 32,
   "id": "a7719ba4-28c1-4b6e-a8a7-08e163c2dd94",
   "metadata": {},
   "outputs": [
    {
     "name": "stdout",
     "output_type": "stream",
     "text": [
      "File inputs/study_files/MDS_UPDRS_Part_III_clean.csv is now available\n",
      "File inputs/study_files/MRI_info.csv is now available\n"
     ]
    }
   ],
   "source": [
    "# H&Y scores\n",
    "\n",
    "# TODO: move this to livingpark_utils\n",
    "import os.path as op\n",
    "\n",
    "file_path = op.join(utils.study_files_dir, \"MDS_UPDRS_Part_III_clean.csv\")\n",
    "if not op.exists(file_path):\n",
    "    !(cd {utils.study_files_dir} && python -m wget \"https://raw.githubusercontent.com/LivingPark-MRI/ppmi-treatment-and-on-off-status/main/PPMI medication and ON-OFF status.ipynb\")  # use requests to improve portability\n",
    "    npath = op.join(utils.study_files_dir, \"PPMI medication and ON-OFF status.ipynb\")\n",
    "    %run \"{npath}\"\n",
    "print(f\"File {file_path} is now available\")\n",
    "\n",
    "# TODO: move this to livingpark_utils\n",
    "import os.path as op\n",
    "\n",
    "file_path = op.join(utils.study_files_dir, \"MRI_info.csv\")\n",
    "if not op.exists(file_path):\n",
    "    !(cd {utils.study_files_dir} && python -m wget \"https://raw.githubusercontent.com/LivingPark-MRI/ppmi-MRI-metadata/main/MRI metadata.ipynb\")  # use requests to improve portability\n",
    "    npath = op.join(utils.study_files_dir, \"MRI metadata.ipynb\")\n",
    "    %run \"{npath}\"\n",
    "print(f\"File {file_path} is now available\")"
   ]
  },
  {
   "cell_type": "markdown",
   "id": "01671975-07d0-48a0-8774-4349abc3f090",
   "metadata": {
    "tags": []
   },
   "source": [
    "### Inclusion criteria\n",
    "\n",
    "We obtain the following group sizes:\n",
    "\n",
    "<!-- and a cutoff score of 6 to identify RBD subjects among PD subjects, consistently with the results presented in [[2]](https://www.sciencedirect.com# /science/article/pii/S138994571100164X). -->"
   ]
  },
  {
   "cell_type": "code",
   "execution_count": 36,
   "id": "b7589aaf-1a2f-411a-afbe-6aa8840fdddd",
   "metadata": {},
   "outputs": [],
   "source": [
    "import pandas as pd\n",
    "\n",
    "# UPDRS3\n",
    "updrs3 = pd.read_csv(op.join(utils.study_files_dir, \"MDS_UPDRS_Part_III_clean.csv\"))[\n",
    "    [\"PATNO\", \"EVENT_ID\", \"PDSTATE\", \"NHY\"]\n",
    "]\n",
    "# Genetics\n",
    "genetics = pd.read_csv(\n",
    "    op.join(utils.study_files_dir, \"iu_genetic_consensus_20220310.csv\")\n",
    ")[[\"PATNO\", \"GBA_PATHVAR\", \"LRRK2_PATHVAR\", \"NOTES\"]]\n",
    "# Cognitive Categorization\n",
    "cog_cat = pd.read_csv(op.join(utils.study_files_dir, \"Cognitive_Categorization.csv\"))[\n",
    "    [\"PATNO\", \"EVENT_ID\", \"COGSTATE\"]\n",
    "]\n",
    "# Diagnosis\n",
    "diag = pd.read_csv(op.join(utils.study_files_dir, \"Primary_Clinical_Diagnosis.csv\"))[\n",
    "    [\"PATNO\", \"EVENT_ID\", \"PRIMDIAG\", \"OTHNEURO\"]\n",
    "]\n",
    "# MRI\n",
    "mri = pd.read_csv(op.join(utils.study_files_dir, 'MRI_info.csv'))[[\"Subject ID\", \"Visit code\", \"Description\"]]\n",
    "mri.rename(columns={\"Subject ID\": \"PATNO\", \"Visit code\": \"EVENT_ID\"}, inplace=True)"
   ]
  },
  {
   "cell_type": "code",
   "execution_count": 84,
   "id": "7bdfd288-bf39-44c5-a194-a3baa873be64",
   "metadata": {},
   "outputs": [
    {
     "name": "stdout",
     "output_type": "stream",
     "text": [
      "Number of controls: 47\n",
      "Number of PD subjects: 128\n",
      "Number of PD subject visits by H&Y score:\n"
     ]
    },
    {
     "data": {
      "text/html": [
       "<div>\n",
       "<style scoped>\n",
       "    .dataframe tbody tr th:only-of-type {\n",
       "        vertical-align: middle;\n",
       "    }\n",
       "\n",
       "    .dataframe tbody tr th {\n",
       "        vertical-align: top;\n",
       "    }\n",
       "\n",
       "    .dataframe thead th {\n",
       "        text-align: right;\n",
       "    }\n",
       "</style>\n",
       "<table border=\"1\" class=\"dataframe\">\n",
       "  <thead>\n",
       "    <tr style=\"text-align: right;\">\n",
       "      <th></th>\n",
       "      <th>PATNO</th>\n",
       "    </tr>\n",
       "    <tr>\n",
       "      <th>NHY</th>\n",
       "      <th></th>\n",
       "    </tr>\n",
       "  </thead>\n",
       "  <tbody>\n",
       "    <tr>\n",
       "      <th>1</th>\n",
       "      <td>68</td>\n",
       "    </tr>\n",
       "    <tr>\n",
       "      <th>2</th>\n",
       "      <td>193</td>\n",
       "    </tr>\n",
       "    <tr>\n",
       "      <th>3</th>\n",
       "      <td>17</td>\n",
       "    </tr>\n",
       "    <tr>\n",
       "      <th>4</th>\n",
       "      <td>3</td>\n",
       "    </tr>\n",
       "  </tbody>\n",
       "</table>\n",
       "</div>"
      ],
      "text/plain": [
       "     PATNO\n",
       "NHY       \n",
       "1       68\n",
       "2      193\n",
       "3       17\n",
       "4        3"
      ]
     },
     "execution_count": 84,
     "metadata": {},
     "output_type": "execute_result"
    }
   ],
   "source": [
    "# Remove genetics data that should be excluded according to PPMI doc\n",
    "genetics_clean = genetics[\n",
    "    ~(\n",
    "        (genetics[\"NOTES\"].notna())\n",
    "        & (\n",
    "            genetics[\"NOTES\"].str.contains(\"exclude GBA\")\n",
    "            | genetics[\"NOTES\"].str.contains(\"exclude LRRK2\")\n",
    "        )\n",
    "    )\n",
    "]\n",
    "\n",
    "# Inclusion / exclusion criteria\n",
    "subjects = (\n",
    "    updrs3[\n",
    "        (updrs3[\"PDSTATE\"] == \"OFF\") & (updrs3[\"NHY\"].notna()) & (updrs3[\"NHY\"]!=\"UR\")\n",
    "    ]  # H&Y score is available and was obtained during OFF time\n",
    "    .merge(\n",
    "        genetics_clean[  # No pathogenic GBA or LRRK2 variant present (Note: on-going email thread with Madeleine)\n",
    "            (genetics_clean[\"GBA_PATHVAR\"] == 0)\n",
    "            & (genetics_clean[\"LRRK2_PATHVAR\"] == 0)\n",
    "        ],\n",
    "        how=\"inner\",\n",
    "        on=\"PATNO\",\n",
    "    )\n",
    "    .merge(\n",
    "        cog_cat[cog_cat[\"COGSTATE\"] != 3], how=\"inner\", on=[\"PATNO\", \"EVENT_ID\"]\n",
    "    )  # No dementia\n",
    "    .merge(\n",
    "        diag[\n",
    "            (diag[\"PRIMDIAG\"].isin([1, 17])) & (diag[\"OTHNEURO\"].isna())\n",
    "        ],  # Primary diagnosis is Idiopathic PD or healthy control\n",
    "        how=\"inner\",\n",
    "        on=[\"PATNO\", \"EVENT_ID\"],\n",
    "    )\n",
    "    .merge(\n",
    "        mri,\n",
    "        how='inner',\n",
    "        on=['PATNO', 'EVENT_ID']\n",
    "    )\n",
    ")\n",
    "\n",
    "pds = subjects[subjects[\"PRIMDIAG\"] == 1]\n",
    "controls = subjects[(subjects[\"PRIMDIAG\"] == 17) & (subjects['NHY']=='0')]  # Exclude controls with H&Y > 0\n",
    "subjects = pd.concat([pds, controls])\n",
    "\n",
    "\n",
    "print(f\"Number of controls: {len(pd.unique(controls['PATNO']))}\")\n",
    "print(f\"Number of PD subjects: {len(pd.unique(pds['PATNO']))}\")\n",
    "\n",
    "print(f\"Number of PD subject visits by H&Y score:\")\n",
    "pds.groupby(['NHY']).count()[['PATNO']]"
   ]
  },
  {
   "cell_type": "markdown",
   "id": "e7bb0228-4b3a-443f-89da-c94bca364f2b",
   "metadata": {
    "slideshow": {
     "slide_type": "slide"
    }
   },
   "source": [
    "### Cohort matching"
   ]
  },
  {
   "cell_type": "code",
   "execution_count": 93,
   "id": "6f8b6fee-c179-4330-a264-999eafd91300",
   "metadata": {},
   "outputs": [
    {
     "name": "stdout",
     "output_type": "stream",
     "text": [
      "Selecting 12 visits of unique patients with H&Y=4\n",
      "Warning: found only 2 visits of unique patients with H&Y=4 while 12 were required\n",
      "Selecting 14 visits of unique patients with H&Y=3\n",
      "Warning: found only 10 visits of unique patients with H&Y=3 while 14 were required\n",
      "Selecting 46 visits of unique patients with H&Y=2\n",
      "Selecting 17 visits of unique patients with H&Y=1\n",
      "Selecting 42 visits of unique patients with H&Y=0\n"
     ]
    }
   ],
   "source": [
    "sample_size = {\n",
    "0: 42,\n",
    "1: 17,\n",
    "2: 46,\n",
    "3: 14,\n",
    "4: 12\n",
    "}\n",
    "\n",
    "samples = {}\n",
    "\n",
    "subjects_ = subjects.copy()  # copy subjects DF to leave it intact\n",
    "for x in sorted(sample_size, reverse=True): # sampling patients in descending H&Y score order as there are less patients with high H&Y scores\n",
    "    print(f\"Selecting {sample_size[x]} visits of unique patients with H&Y={x}\")\n",
    "    try:\n",
    "        # Sample visits with H&Y=x and make sure they belong to different patients\n",
    "        hy = subjects_[subjects_['NHY']==str(x)].groupby(['PATNO']).sample(1, random_state=random_seed)\n",
    "        samples[x] = hy.sample(sample_size[x], random_state=random_seed)\n",
    "    except Exception as e:\n",
    "        if 'Cannot take a larger sample than population' in str(e):\n",
    "            print(f'Warning: found only {len(hy)} visits of unique patients with H&Y={x} while {sample_size[x]} were required')\n",
    "            samples[x] = hy\n",
    "        else:\n",
    "            raise(e)\n",
    "    # Remove sampled patients from subjects_\n",
    "    subjects_ = subjects_[~(subjects_['PATNO'].isin(samples[x]['PATNO']))]\n"
   ]
  },
  {
   "cell_type": "code",
   "execution_count": 94,
   "id": "c86d3e08-d089-4dcd-a404-f41fc3416aab",
   "metadata": {},
   "outputs": [
    {
     "data": {
      "text/html": [
       "<div>\n",
       "<style scoped>\n",
       "    .dataframe tbody tr th:only-of-type {\n",
       "        vertical-align: middle;\n",
       "    }\n",
       "\n",
       "    .dataframe tbody tr th {\n",
       "        vertical-align: top;\n",
       "    }\n",
       "\n",
       "    .dataframe thead th {\n",
       "        text-align: right;\n",
       "    }\n",
       "</style>\n",
       "<table border=\"1\" class=\"dataframe\">\n",
       "  <thead>\n",
       "    <tr style=\"text-align: right;\">\n",
       "      <th></th>\n",
       "      <th>PATNO</th>\n",
       "      <th>EVENT_ID</th>\n",
       "      <th>PDSTATE</th>\n",
       "      <th>GBA_PATHVAR</th>\n",
       "      <th>LRRK2_PATHVAR</th>\n",
       "      <th>NOTES</th>\n",
       "      <th>COGSTATE</th>\n",
       "      <th>PRIMDIAG</th>\n",
       "      <th>OTHNEURO</th>\n",
       "      <th>Description</th>\n",
       "    </tr>\n",
       "    <tr>\n",
       "      <th>NHY</th>\n",
       "      <th></th>\n",
       "      <th></th>\n",
       "      <th></th>\n",
       "      <th></th>\n",
       "      <th></th>\n",
       "      <th></th>\n",
       "      <th></th>\n",
       "      <th></th>\n",
       "      <th></th>\n",
       "      <th></th>\n",
       "    </tr>\n",
       "  </thead>\n",
       "  <tbody>\n",
       "    <tr>\n",
       "      <th>0</th>\n",
       "      <td>42</td>\n",
       "      <td>42</td>\n",
       "      <td>42</td>\n",
       "      <td>42</td>\n",
       "      <td>42</td>\n",
       "      <td>0</td>\n",
       "      <td>42</td>\n",
       "      <td>42</td>\n",
       "      <td>0</td>\n",
       "      <td>42</td>\n",
       "    </tr>\n",
       "    <tr>\n",
       "      <th>1</th>\n",
       "      <td>17</td>\n",
       "      <td>17</td>\n",
       "      <td>17</td>\n",
       "      <td>17</td>\n",
       "      <td>17</td>\n",
       "      <td>2</td>\n",
       "      <td>17</td>\n",
       "      <td>17</td>\n",
       "      <td>0</td>\n",
       "      <td>17</td>\n",
       "    </tr>\n",
       "    <tr>\n",
       "      <th>2</th>\n",
       "      <td>46</td>\n",
       "      <td>46</td>\n",
       "      <td>46</td>\n",
       "      <td>46</td>\n",
       "      <td>46</td>\n",
       "      <td>1</td>\n",
       "      <td>46</td>\n",
       "      <td>46</td>\n",
       "      <td>0</td>\n",
       "      <td>46</td>\n",
       "    </tr>\n",
       "    <tr>\n",
       "      <th>3</th>\n",
       "      <td>10</td>\n",
       "      <td>10</td>\n",
       "      <td>10</td>\n",
       "      <td>10</td>\n",
       "      <td>10</td>\n",
       "      <td>0</td>\n",
       "      <td>10</td>\n",
       "      <td>10</td>\n",
       "      <td>0</td>\n",
       "      <td>10</td>\n",
       "    </tr>\n",
       "    <tr>\n",
       "      <th>4</th>\n",
       "      <td>2</td>\n",
       "      <td>2</td>\n",
       "      <td>2</td>\n",
       "      <td>2</td>\n",
       "      <td>2</td>\n",
       "      <td>0</td>\n",
       "      <td>2</td>\n",
       "      <td>2</td>\n",
       "      <td>0</td>\n",
       "      <td>2</td>\n",
       "    </tr>\n",
       "  </tbody>\n",
       "</table>\n",
       "</div>"
      ],
      "text/plain": [
       "     PATNO  EVENT_ID  PDSTATE  GBA_PATHVAR  LRRK2_PATHVAR  NOTES  COGSTATE  \\\n",
       "NHY                                                                          \n",
       "0       42        42       42           42             42      0        42   \n",
       "1       17        17       17           17             17      2        17   \n",
       "2       46        46       46           46             46      1        46   \n",
       "3       10        10       10           10             10      0        10   \n",
       "4        2         2        2            2              2      0         2   \n",
       "\n",
       "     PRIMDIAG  OTHNEURO  Description  \n",
       "NHY                                   \n",
       "0          42         0           42  \n",
       "1          17         0           17  \n",
       "2          46         0           46  \n",
       "3          10         0           10  \n",
       "4           2         0            2  "
      ]
     },
     "execution_count": 94,
     "metadata": {},
     "output_type": "execute_result"
    }
   ],
   "source": [
    "cohort = pd.concat([samples[x] for x in samples])\n",
    "cohort.groupby('NHY').count()"
   ]
  },
  {
   "cell_type": "code",
   "execution_count": null,
   "id": "05c496ba-36ac-44ff-a6d6-4f8b508f0841",
   "metadata": {},
   "outputs": [],
   "source": []
  }
 ],
 "metadata": {
  "kernelspec": {
   "display_name": "Python 3 (ipykernel)",
   "language": "python",
   "name": "python3"
  },
  "language_info": {
   "codemirror_mode": {
    "name": "ipython",
    "version": 3
   },
   "file_extension": ".py",
   "mimetype": "text/x-python",
   "name": "python",
   "nbconvert_exporter": "python",
   "pygments_lexer": "ipython3",
   "version": "3.10.5"
  }
 },
 "nbformat": 4,
 "nbformat_minor": 5
}
